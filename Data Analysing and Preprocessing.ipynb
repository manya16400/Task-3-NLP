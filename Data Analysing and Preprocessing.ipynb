{
 "cells": [
  {
   "cell_type": "markdown",
   "metadata": {},
   "source": [
    "# Analizing the dataset"
   ]
  },
  {
   "cell_type": "code",
   "execution_count": 64,
   "metadata": {},
   "outputs": [
    {
     "name": "stdout",
     "output_type": "stream",
     "text": [
      "(20000, 15)\n"
     ]
    },
    {
     "data": {
      "text/html": [
       "<div>\n",
       "<style scoped>\n",
       "    .dataframe tbody tr th:only-of-type {\n",
       "        vertical-align: middle;\n",
       "    }\n",
       "\n",
       "    .dataframe tbody tr th {\n",
       "        vertical-align: top;\n",
       "    }\n",
       "\n",
       "    .dataframe thead th {\n",
       "        text-align: right;\n",
       "    }\n",
       "</style>\n",
       "<table border=\"1\" class=\"dataframe\">\n",
       "  <thead>\n",
       "    <tr style=\"text-align: right;\">\n",
       "      <th></th>\n",
       "      <th>uniq_id</th>\n",
       "      <th>crawl_timestamp</th>\n",
       "      <th>product_url</th>\n",
       "      <th>product_name</th>\n",
       "      <th>product_category_tree</th>\n",
       "      <th>pid</th>\n",
       "      <th>retail_price</th>\n",
       "      <th>discounted_price</th>\n",
       "      <th>image</th>\n",
       "      <th>is_FK_Advantage_product</th>\n",
       "      <th>description</th>\n",
       "      <th>product_rating</th>\n",
       "      <th>overall_rating</th>\n",
       "      <th>brand</th>\n",
       "      <th>product_specifications</th>\n",
       "    </tr>\n",
       "  </thead>\n",
       "  <tbody>\n",
       "    <tr>\n",
       "      <th>0</th>\n",
       "      <td>c2d766ca982eca8304150849735ffef9</td>\n",
       "      <td>2016-03-25 22:59:23 +0000</td>\n",
       "      <td>http://www.flipkart.com/alisha-solid-women-s-c...</td>\n",
       "      <td>Alisha Solid Women's Cycling Shorts</td>\n",
       "      <td>[\"Clothing &gt;&gt; Women's Clothing &gt;&gt; Lingerie, Sl...</td>\n",
       "      <td>SRTEH2FF9KEDEFGF</td>\n",
       "      <td>999.0</td>\n",
       "      <td>379.0</td>\n",
       "      <td>[\"http://img5a.flixcart.com/image/short/u/4/a/...</td>\n",
       "      <td>False</td>\n",
       "      <td>Key Features of Alisha Solid Women's Cycling S...</td>\n",
       "      <td>No rating available</td>\n",
       "      <td>No rating available</td>\n",
       "      <td>Alisha</td>\n",
       "      <td>{\"product_specification\"=&gt;[{\"key\"=&gt;\"Number of ...</td>\n",
       "    </tr>\n",
       "    <tr>\n",
       "      <th>1</th>\n",
       "      <td>7f7036a6d550aaa89d34c77bd39a5e48</td>\n",
       "      <td>2016-03-25 22:59:23 +0000</td>\n",
       "      <td>http://www.flipkart.com/fabhomedecor-fabric-do...</td>\n",
       "      <td>FabHomeDecor Fabric Double Sofa Bed</td>\n",
       "      <td>[\"Furniture &gt;&gt; Living Room Furniture &gt;&gt; Sofa B...</td>\n",
       "      <td>SBEEH3QGU7MFYJFY</td>\n",
       "      <td>32157.0</td>\n",
       "      <td>22646.0</td>\n",
       "      <td>[\"http://img6a.flixcart.com/image/sofa-bed/j/f...</td>\n",
       "      <td>False</td>\n",
       "      <td>FabHomeDecor Fabric Double Sofa Bed (Finish Co...</td>\n",
       "      <td>No rating available</td>\n",
       "      <td>No rating available</td>\n",
       "      <td>FabHomeDecor</td>\n",
       "      <td>{\"product_specification\"=&gt;[{\"key\"=&gt;\"Installati...</td>\n",
       "    </tr>\n",
       "    <tr>\n",
       "      <th>2</th>\n",
       "      <td>f449ec65dcbc041b6ae5e6a32717d01b</td>\n",
       "      <td>2016-03-25 22:59:23 +0000</td>\n",
       "      <td>http://www.flipkart.com/aw-bellies/p/itmeh4grg...</td>\n",
       "      <td>AW Bellies</td>\n",
       "      <td>[\"Footwear &gt;&gt; Women's Footwear &gt;&gt; Ballerinas &gt;...</td>\n",
       "      <td>SHOEH4GRSUBJGZXE</td>\n",
       "      <td>999.0</td>\n",
       "      <td>499.0</td>\n",
       "      <td>[\"http://img5a.flixcart.com/image/shoe/7/z/z/r...</td>\n",
       "      <td>False</td>\n",
       "      <td>Key Features of AW Bellies Sandals Wedges Heel...</td>\n",
       "      <td>No rating available</td>\n",
       "      <td>No rating available</td>\n",
       "      <td>AW</td>\n",
       "      <td>{\"product_specification\"=&gt;[{\"key\"=&gt;\"Ideal For\"...</td>\n",
       "    </tr>\n",
       "  </tbody>\n",
       "</table>\n",
       "</div>"
      ],
      "text/plain": [
       "                            uniq_id            crawl_timestamp  \\\n",
       "0  c2d766ca982eca8304150849735ffef9  2016-03-25 22:59:23 +0000   \n",
       "1  7f7036a6d550aaa89d34c77bd39a5e48  2016-03-25 22:59:23 +0000   \n",
       "2  f449ec65dcbc041b6ae5e6a32717d01b  2016-03-25 22:59:23 +0000   \n",
       "\n",
       "                                         product_url  \\\n",
       "0  http://www.flipkart.com/alisha-solid-women-s-c...   \n",
       "1  http://www.flipkart.com/fabhomedecor-fabric-do...   \n",
       "2  http://www.flipkart.com/aw-bellies/p/itmeh4grg...   \n",
       "\n",
       "                          product_name  \\\n",
       "0  Alisha Solid Women's Cycling Shorts   \n",
       "1  FabHomeDecor Fabric Double Sofa Bed   \n",
       "2                           AW Bellies   \n",
       "\n",
       "                               product_category_tree               pid  \\\n",
       "0  [\"Clothing >> Women's Clothing >> Lingerie, Sl...  SRTEH2FF9KEDEFGF   \n",
       "1  [\"Furniture >> Living Room Furniture >> Sofa B...  SBEEH3QGU7MFYJFY   \n",
       "2  [\"Footwear >> Women's Footwear >> Ballerinas >...  SHOEH4GRSUBJGZXE   \n",
       "\n",
       "   retail_price  discounted_price  \\\n",
       "0         999.0             379.0   \n",
       "1       32157.0           22646.0   \n",
       "2         999.0             499.0   \n",
       "\n",
       "                                               image  is_FK_Advantage_product  \\\n",
       "0  [\"http://img5a.flixcart.com/image/short/u/4/a/...                    False   \n",
       "1  [\"http://img6a.flixcart.com/image/sofa-bed/j/f...                    False   \n",
       "2  [\"http://img5a.flixcart.com/image/shoe/7/z/z/r...                    False   \n",
       "\n",
       "                                         description       product_rating  \\\n",
       "0  Key Features of Alisha Solid Women's Cycling S...  No rating available   \n",
       "1  FabHomeDecor Fabric Double Sofa Bed (Finish Co...  No rating available   \n",
       "2  Key Features of AW Bellies Sandals Wedges Heel...  No rating available   \n",
       "\n",
       "        overall_rating         brand  \\\n",
       "0  No rating available        Alisha   \n",
       "1  No rating available  FabHomeDecor   \n",
       "2  No rating available            AW   \n",
       "\n",
       "                              product_specifications  \n",
       "0  {\"product_specification\"=>[{\"key\"=>\"Number of ...  \n",
       "1  {\"product_specification\"=>[{\"key\"=>\"Installati...  \n",
       "2  {\"product_specification\"=>[{\"key\"=>\"Ideal For\"...  "
      ]
     },
     "execution_count": 64,
     "metadata": {},
     "output_type": "execute_result"
    }
   ],
   "source": [
    "import numpy as np\n",
    "import pandas as pd\n",
    "import seaborn as sns\n",
    "import matplotlib.pyplot as plt\n",
    "\n",
    "data = pd.read_csv('data.csv')\n",
    "print(data.shape)\n",
    "\n",
    "data.head(3)"
   ]
  },
  {
   "cell_type": "code",
   "execution_count": 65,
   "metadata": {},
   "outputs": [
    {
     "data": {
      "text/html": [
       "<div>\n",
       "<style scoped>\n",
       "    .dataframe tbody tr th:only-of-type {\n",
       "        vertical-align: middle;\n",
       "    }\n",
       "\n",
       "    .dataframe tbody tr th {\n",
       "        vertical-align: top;\n",
       "    }\n",
       "\n",
       "    .dataframe thead th {\n",
       "        text-align: right;\n",
       "    }\n",
       "</style>\n",
       "<table border=\"1\" class=\"dataframe\">\n",
       "  <thead>\n",
       "    <tr style=\"text-align: right;\">\n",
       "      <th></th>\n",
       "      <th>uniq_id</th>\n",
       "      <th>crawl_timestamp</th>\n",
       "      <th>product_url</th>\n",
       "      <th>product_name</th>\n",
       "      <th>product_category_tree</th>\n",
       "      <th>pid</th>\n",
       "      <th>retail_price</th>\n",
       "      <th>discounted_price</th>\n",
       "      <th>image</th>\n",
       "      <th>is_FK_Advantage_product</th>\n",
       "      <th>description</th>\n",
       "      <th>product_rating</th>\n",
       "      <th>overall_rating</th>\n",
       "      <th>brand</th>\n",
       "      <th>product_specifications</th>\n",
       "    </tr>\n",
       "  </thead>\n",
       "  <tbody>\n",
       "    <tr>\n",
       "      <th>count</th>\n",
       "      <td>20000</td>\n",
       "      <td>20000</td>\n",
       "      <td>20000</td>\n",
       "      <td>20000</td>\n",
       "      <td>20000</td>\n",
       "      <td>20000</td>\n",
       "      <td>19922.000000</td>\n",
       "      <td>19922.000000</td>\n",
       "      <td>19997</td>\n",
       "      <td>20000</td>\n",
       "      <td>19998</td>\n",
       "      <td>20000</td>\n",
       "      <td>20000</td>\n",
       "      <td>14136</td>\n",
       "      <td>19986</td>\n",
       "    </tr>\n",
       "    <tr>\n",
       "      <th>unique</th>\n",
       "      <td>20000</td>\n",
       "      <td>371</td>\n",
       "      <td>20000</td>\n",
       "      <td>12676</td>\n",
       "      <td>6466</td>\n",
       "      <td>19998</td>\n",
       "      <td>NaN</td>\n",
       "      <td>NaN</td>\n",
       "      <td>18589</td>\n",
       "      <td>2</td>\n",
       "      <td>17539</td>\n",
       "      <td>36</td>\n",
       "      <td>36</td>\n",
       "      <td>3499</td>\n",
       "      <td>18825</td>\n",
       "    </tr>\n",
       "    <tr>\n",
       "      <th>top</th>\n",
       "      <td>2703567761a3071244b93413e1ba7e91</td>\n",
       "      <td>2015-12-01 12:40:44 +0000</td>\n",
       "      <td>http://www.flipkart.com/shaftesbury-london-men...</td>\n",
       "      <td>TheLostPuppy Back Cover for Apple iPad Air</td>\n",
       "      <td>[\"Jewellery &gt;&gt; Necklaces &amp; Chains &gt;&gt; Necklaces\"]</td>\n",
       "      <td>ACCEJ6TESY7AFT5W</td>\n",
       "      <td>NaN</td>\n",
       "      <td>NaN</td>\n",
       "      <td>[\"http://img6a.flixcart.com/image/car-mat/m/t/...</td>\n",
       "      <td>False</td>\n",
       "      <td>TheLostPuppy Back Cover for Apple iPad Air (Mu...</td>\n",
       "      <td>No rating available</td>\n",
       "      <td>No rating available</td>\n",
       "      <td>Allure Auto</td>\n",
       "      <td>{\"product_specification\"=&gt;[{\"key\"=&gt;\"Type\", \"va...</td>\n",
       "    </tr>\n",
       "    <tr>\n",
       "      <th>freq</th>\n",
       "      <td>1</td>\n",
       "      <td>1979</td>\n",
       "      <td>1</td>\n",
       "      <td>134</td>\n",
       "      <td>1567</td>\n",
       "      <td>2</td>\n",
       "      <td>NaN</td>\n",
       "      <td>NaN</td>\n",
       "      <td>45</td>\n",
       "      <td>19215</td>\n",
       "      <td>92</td>\n",
       "      <td>18151</td>\n",
       "      <td>18151</td>\n",
       "      <td>469</td>\n",
       "      <td>71</td>\n",
       "    </tr>\n",
       "    <tr>\n",
       "      <th>mean</th>\n",
       "      <td>NaN</td>\n",
       "      <td>NaN</td>\n",
       "      <td>NaN</td>\n",
       "      <td>NaN</td>\n",
       "      <td>NaN</td>\n",
       "      <td>NaN</td>\n",
       "      <td>2979.206104</td>\n",
       "      <td>1973.401767</td>\n",
       "      <td>NaN</td>\n",
       "      <td>NaN</td>\n",
       "      <td>NaN</td>\n",
       "      <td>NaN</td>\n",
       "      <td>NaN</td>\n",
       "      <td>NaN</td>\n",
       "      <td>NaN</td>\n",
       "    </tr>\n",
       "    <tr>\n",
       "      <th>std</th>\n",
       "      <td>NaN</td>\n",
       "      <td>NaN</td>\n",
       "      <td>NaN</td>\n",
       "      <td>NaN</td>\n",
       "      <td>NaN</td>\n",
       "      <td>NaN</td>\n",
       "      <td>9009.639341</td>\n",
       "      <td>7333.586040</td>\n",
       "      <td>NaN</td>\n",
       "      <td>NaN</td>\n",
       "      <td>NaN</td>\n",
       "      <td>NaN</td>\n",
       "      <td>NaN</td>\n",
       "      <td>NaN</td>\n",
       "      <td>NaN</td>\n",
       "    </tr>\n",
       "    <tr>\n",
       "      <th>min</th>\n",
       "      <td>NaN</td>\n",
       "      <td>NaN</td>\n",
       "      <td>NaN</td>\n",
       "      <td>NaN</td>\n",
       "      <td>NaN</td>\n",
       "      <td>NaN</td>\n",
       "      <td>35.000000</td>\n",
       "      <td>35.000000</td>\n",
       "      <td>NaN</td>\n",
       "      <td>NaN</td>\n",
       "      <td>NaN</td>\n",
       "      <td>NaN</td>\n",
       "      <td>NaN</td>\n",
       "      <td>NaN</td>\n",
       "      <td>NaN</td>\n",
       "    </tr>\n",
       "    <tr>\n",
       "      <th>25%</th>\n",
       "      <td>NaN</td>\n",
       "      <td>NaN</td>\n",
       "      <td>NaN</td>\n",
       "      <td>NaN</td>\n",
       "      <td>NaN</td>\n",
       "      <td>NaN</td>\n",
       "      <td>666.000000</td>\n",
       "      <td>350.000000</td>\n",
       "      <td>NaN</td>\n",
       "      <td>NaN</td>\n",
       "      <td>NaN</td>\n",
       "      <td>NaN</td>\n",
       "      <td>NaN</td>\n",
       "      <td>NaN</td>\n",
       "      <td>NaN</td>\n",
       "    </tr>\n",
       "    <tr>\n",
       "      <th>50%</th>\n",
       "      <td>NaN</td>\n",
       "      <td>NaN</td>\n",
       "      <td>NaN</td>\n",
       "      <td>NaN</td>\n",
       "      <td>NaN</td>\n",
       "      <td>NaN</td>\n",
       "      <td>1040.000000</td>\n",
       "      <td>550.000000</td>\n",
       "      <td>NaN</td>\n",
       "      <td>NaN</td>\n",
       "      <td>NaN</td>\n",
       "      <td>NaN</td>\n",
       "      <td>NaN</td>\n",
       "      <td>NaN</td>\n",
       "      <td>NaN</td>\n",
       "    </tr>\n",
       "    <tr>\n",
       "      <th>75%</th>\n",
       "      <td>NaN</td>\n",
       "      <td>NaN</td>\n",
       "      <td>NaN</td>\n",
       "      <td>NaN</td>\n",
       "      <td>NaN</td>\n",
       "      <td>NaN</td>\n",
       "      <td>1999.000000</td>\n",
       "      <td>999.000000</td>\n",
       "      <td>NaN</td>\n",
       "      <td>NaN</td>\n",
       "      <td>NaN</td>\n",
       "      <td>NaN</td>\n",
       "      <td>NaN</td>\n",
       "      <td>NaN</td>\n",
       "      <td>NaN</td>\n",
       "    </tr>\n",
       "    <tr>\n",
       "      <th>max</th>\n",
       "      <td>NaN</td>\n",
       "      <td>NaN</td>\n",
       "      <td>NaN</td>\n",
       "      <td>NaN</td>\n",
       "      <td>NaN</td>\n",
       "      <td>NaN</td>\n",
       "      <td>571230.000000</td>\n",
       "      <td>571230.000000</td>\n",
       "      <td>NaN</td>\n",
       "      <td>NaN</td>\n",
       "      <td>NaN</td>\n",
       "      <td>NaN</td>\n",
       "      <td>NaN</td>\n",
       "      <td>NaN</td>\n",
       "      <td>NaN</td>\n",
       "    </tr>\n",
       "  </tbody>\n",
       "</table>\n",
       "</div>"
      ],
      "text/plain": [
       "                                 uniq_id            crawl_timestamp  \\\n",
       "count                              20000                      20000   \n",
       "unique                             20000                        371   \n",
       "top     2703567761a3071244b93413e1ba7e91  2015-12-01 12:40:44 +0000   \n",
       "freq                                   1                       1979   \n",
       "mean                                 NaN                        NaN   \n",
       "std                                  NaN                        NaN   \n",
       "min                                  NaN                        NaN   \n",
       "25%                                  NaN                        NaN   \n",
       "50%                                  NaN                        NaN   \n",
       "75%                                  NaN                        NaN   \n",
       "max                                  NaN                        NaN   \n",
       "\n",
       "                                              product_url  \\\n",
       "count                                               20000   \n",
       "unique                                              20000   \n",
       "top     http://www.flipkart.com/shaftesbury-london-men...   \n",
       "freq                                                    1   \n",
       "mean                                                  NaN   \n",
       "std                                                   NaN   \n",
       "min                                                   NaN   \n",
       "25%                                                   NaN   \n",
       "50%                                                   NaN   \n",
       "75%                                                   NaN   \n",
       "max                                                   NaN   \n",
       "\n",
       "                                      product_name  \\\n",
       "count                                        20000   \n",
       "unique                                       12676   \n",
       "top     TheLostPuppy Back Cover for Apple iPad Air   \n",
       "freq                                           134   \n",
       "mean                                           NaN   \n",
       "std                                            NaN   \n",
       "min                                            NaN   \n",
       "25%                                            NaN   \n",
       "50%                                            NaN   \n",
       "75%                                            NaN   \n",
       "max                                            NaN   \n",
       "\n",
       "                                   product_category_tree               pid  \\\n",
       "count                                              20000             20000   \n",
       "unique                                              6466             19998   \n",
       "top     [\"Jewellery >> Necklaces & Chains >> Necklaces\"]  ACCEJ6TESY7AFT5W   \n",
       "freq                                                1567                 2   \n",
       "mean                                                 NaN               NaN   \n",
       "std                                                  NaN               NaN   \n",
       "min                                                  NaN               NaN   \n",
       "25%                                                  NaN               NaN   \n",
       "50%                                                  NaN               NaN   \n",
       "75%                                                  NaN               NaN   \n",
       "max                                                  NaN               NaN   \n",
       "\n",
       "         retail_price  discounted_price  \\\n",
       "count    19922.000000      19922.000000   \n",
       "unique            NaN               NaN   \n",
       "top               NaN               NaN   \n",
       "freq              NaN               NaN   \n",
       "mean      2979.206104       1973.401767   \n",
       "std       9009.639341       7333.586040   \n",
       "min         35.000000         35.000000   \n",
       "25%        666.000000        350.000000   \n",
       "50%       1040.000000        550.000000   \n",
       "75%       1999.000000        999.000000   \n",
       "max     571230.000000     571230.000000   \n",
       "\n",
       "                                                    image  \\\n",
       "count                                               19997   \n",
       "unique                                              18589   \n",
       "top     [\"http://img6a.flixcart.com/image/car-mat/m/t/...   \n",
       "freq                                                   45   \n",
       "mean                                                  NaN   \n",
       "std                                                   NaN   \n",
       "min                                                   NaN   \n",
       "25%                                                   NaN   \n",
       "50%                                                   NaN   \n",
       "75%                                                   NaN   \n",
       "max                                                   NaN   \n",
       "\n",
       "       is_FK_Advantage_product  \\\n",
       "count                    20000   \n",
       "unique                       2   \n",
       "top                      False   \n",
       "freq                     19215   \n",
       "mean                       NaN   \n",
       "std                        NaN   \n",
       "min                        NaN   \n",
       "25%                        NaN   \n",
       "50%                        NaN   \n",
       "75%                        NaN   \n",
       "max                        NaN   \n",
       "\n",
       "                                              description  \\\n",
       "count                                               19998   \n",
       "unique                                              17539   \n",
       "top     TheLostPuppy Back Cover for Apple iPad Air (Mu...   \n",
       "freq                                                   92   \n",
       "mean                                                  NaN   \n",
       "std                                                   NaN   \n",
       "min                                                   NaN   \n",
       "25%                                                   NaN   \n",
       "50%                                                   NaN   \n",
       "75%                                                   NaN   \n",
       "max                                                   NaN   \n",
       "\n",
       "             product_rating       overall_rating        brand  \\\n",
       "count                 20000                20000        14136   \n",
       "unique                   36                   36         3499   \n",
       "top     No rating available  No rating available  Allure Auto   \n",
       "freq                  18151                18151          469   \n",
       "mean                    NaN                  NaN          NaN   \n",
       "std                     NaN                  NaN          NaN   \n",
       "min                     NaN                  NaN          NaN   \n",
       "25%                     NaN                  NaN          NaN   \n",
       "50%                     NaN                  NaN          NaN   \n",
       "75%                     NaN                  NaN          NaN   \n",
       "max                     NaN                  NaN          NaN   \n",
       "\n",
       "                                   product_specifications  \n",
       "count                                               19986  \n",
       "unique                                              18825  \n",
       "top     {\"product_specification\"=>[{\"key\"=>\"Type\", \"va...  \n",
       "freq                                                   71  \n",
       "mean                                                  NaN  \n",
       "std                                                   NaN  \n",
       "min                                                   NaN  \n",
       "25%                                                   NaN  \n",
       "50%                                                   NaN  \n",
       "75%                                                   NaN  \n",
       "max                                                   NaN  "
      ]
     },
     "execution_count": 65,
     "metadata": {},
     "output_type": "execute_result"
    }
   ],
   "source": [
    "# Description of the dataset\n",
    "\n",
    "data.describe(include=\"all\")"
   ]
  },
  {
   "cell_type": "code",
   "execution_count": 66,
   "metadata": {},
   "outputs": [
    {
     "name": "stdout",
     "output_type": "stream",
     "text": [
      "<class 'pandas.core.frame.DataFrame'>\n",
      "RangeIndex: 20000 entries, 0 to 19999\n",
      "Data columns (total 15 columns):\n",
      " #   Column                   Non-Null Count  Dtype  \n",
      "---  ------                   --------------  -----  \n",
      " 0   uniq_id                  20000 non-null  object \n",
      " 1   crawl_timestamp          20000 non-null  object \n",
      " 2   product_url              20000 non-null  object \n",
      " 3   product_name             20000 non-null  object \n",
      " 4   product_category_tree    20000 non-null  object \n",
      " 5   pid                      20000 non-null  object \n",
      " 6   retail_price             19922 non-null  float64\n",
      " 7   discounted_price         19922 non-null  float64\n",
      " 8   image                    19997 non-null  object \n",
      " 9   is_FK_Advantage_product  20000 non-null  bool   \n",
      " 10  description              19998 non-null  object \n",
      " 11  product_rating           20000 non-null  object \n",
      " 12  overall_rating           20000 non-null  object \n",
      " 13  brand                    14136 non-null  object \n",
      " 14  product_specifications   19986 non-null  object \n",
      "dtypes: bool(1), float64(2), object(12)\n",
      "memory usage: 2.2+ MB\n"
     ]
    }
   ],
   "source": [
    "data.info()"
   ]
  },
  {
   "cell_type": "code",
   "execution_count": 67,
   "metadata": {},
   "outputs": [
    {
     "name": "stdout",
     "output_type": "stream",
     "text": [
      "uniq_id                       0\n",
      "crawl_timestamp               0\n",
      "product_url                   0\n",
      "product_name                  0\n",
      "product_category_tree         0\n",
      "pid                           0\n",
      "retail_price                 78\n",
      "discounted_price             78\n",
      "image                         3\n",
      "is_FK_Advantage_product       0\n",
      "description                   2\n",
      "product_rating                0\n",
      "overall_rating                0\n",
      "brand                      5864\n",
      "product_specifications       14\n",
      "dtype: int64\n"
     ]
    },
    {
     "data": {
      "text/plain": [
       "<AxesSubplot:>"
      ]
     },
     "execution_count": 67,
     "metadata": {},
     "output_type": "execute_result"
    },
    {
     "data": {
      "image/png": "[encoded data removed]",
      "text/plain": [
       "<Figure size 720x576 with 2 Axes>"
      ]
     },
     "metadata": {
      "needs_background": "light"
     },
     "output_type": "display_data"
    }
   ],
   "source": [
    "print(data.isnull().sum())\n",
    "\n",
    "plt.figure(figsize =(10,8))\n",
    "sns.heatmap(data.isnull(),yticklabels=False,cmap='plasma',cbar=True)"
   ]
  },
  {
   "cell_type": "markdown",
   "metadata": {},
   "source": [
    "Brand has the most null values. We will deal with it in further preprocessing steps."
   ]
  },
  {
   "cell_type": "markdown",
   "metadata": {},
   "source": [
    "### Coverting crawl_timestamp column for analysis"
   ]
  },
  {
   "cell_type": "code",
   "execution_count": 68,
   "metadata": {},
   "outputs": [
    {
     "data": {
      "text/plain": [
       "0       2016-03-25 22:59:23+00:00\n",
       "1       2016-03-25 22:59:23+00:00\n",
       "2       2016-03-25 22:59:23+00:00\n",
       "3       2016-03-25 22:59:23+00:00\n",
       "4       2016-03-25 22:59:23+00:00\n",
       "                   ...           \n",
       "19995   2015-12-01 10:15:43+00:00\n",
       "19996   2015-12-01 10:15:43+00:00\n",
       "19997   2015-12-01 10:15:43+00:00\n",
       "19998   2015-12-01 10:15:43+00:00\n",
       "19999   2015-12-01 10:15:43+00:00\n",
       "Name: crawl_timestamp, Length: 20000, dtype: datetime64[ns, UTC]"
      ]
     },
     "execution_count": 68,
     "metadata": {},
     "output_type": "execute_result"
    }
   ],
   "source": [
    "data['crawl_timestamp']=pd.to_datetime(data['crawl_timestamp'])\n",
    "data['crawl_timestamp']"
   ]
  },
  {
   "cell_type": "code",
   "execution_count": 69,
   "metadata": {},
   "outputs": [],
   "source": [
    "data['crawl_month']=data['crawl_timestamp'].apply(lambda x : x.month)\n",
    "data['crawl_year']=data['crawl_timestamp'].apply(lambda x : x.year)"
   ]
  },
  {
   "cell_type": "markdown",
   "metadata": {},
   "source": [
    "### Sales by month"
   ]
  },
  {
   "cell_type": "code",
   "execution_count": 70,
   "metadata": {},
   "outputs": [
    {
     "data": {
      "text/plain": [
       "Text(0, 0.5, 'Sales')"
      ]
     },
     "execution_count": 70,
     "metadata": {},
     "output_type": "execute_result"
    },
    {
     "data": {
      "text/plain": [
       "<Figure size 10800x720 with 0 Axes>"
      ]
     },
     "metadata": {},
     "output_type": "display_data"
    },
    {
     "data": {
      "image/png": "[encoded data removed]",
      "text/plain": [
       "<Figure size 432x288 with 1 Axes>"
      ]
     },
     "metadata": {
      "needs_background": "light"
     },
     "output_type": "display_data"
    }
   ],
   "source": [
    "plt.figure(figsize=(150,10))\n",
    "temp=data.groupby(by='crawl_month',axis=0).count().plot(kind='bar',legend=False)\n",
    "plt.ylabel('Sales')"
   ]
  },
  {
   "cell_type": "markdown",
   "metadata": {},
   "source": [
    "It is observed that 2nd month (February) and 12th month (December) has minimum and maximum number of sales respectively."
   ]
  },
  {
   "cell_type": "markdown",
   "metadata": {},
   "source": [
    "### Sale by year"
   ]
  },
  {
   "cell_type": "code",
   "execution_count": 71,
   "metadata": {},
   "outputs": [
    {
     "data": {
      "text/plain": [
       "Text(0, 0.5, 'Sales')"
      ]
     },
     "execution_count": 71,
     "metadata": {},
     "output_type": "execute_result"
    },
    {
     "data": {
      "text/plain": [
       "<Figure size 10800x720 with 0 Axes>"
      ]
     },
     "metadata": {},
     "output_type": "display_data"
    },
    {
     "data": {
      "image/png": "[encoded data removed]",
      "text/plain": [
       "<Figure size 432x288 with 1 Axes>"
      ]
     },
     "metadata": {
      "needs_background": "light"
     },
     "output_type": "display_data"
    }
   ],
   "source": [
    "plt.figure(figsize=(150,10))\n",
    "temp=data.groupby(by='crawl_year',axis=0).count().plot(kind='bar',legend=False)\n",
    "plt.ylabel('Sales')"
   ]
  },
  {
   "cell_type": "markdown",
   "metadata": {},
   "source": [
    "Both the year have almost same amount of sale"
   ]
  },
  {
   "cell_type": "markdown",
   "metadata": {},
   "source": [
    "### Analysing the main category"
   ]
  },
  {
   "cell_type": "code",
   "execution_count": 72,
   "metadata": {},
   "outputs": [
    {
     "data": {
      "text/plain": [
       "(array([   0., 1000., 2000., 3000., 4000., 5000., 6000., 7000.]),\n",
       " [Text(0, 0, ''),\n",
       "  Text(0, 0, ''),\n",
       "  Text(0, 0, ''),\n",
       "  Text(0, 0, ''),\n",
       "  Text(0, 0, ''),\n",
       "  Text(0, 0, ''),\n",
       "  Text(0, 0, ''),\n",
       "  Text(0, 0, '')])"
      ]
     },
     "execution_count": 72,
     "metadata": {},
     "output_type": "execute_result"
    },
    {
     "data": {
      "image/png": "[encoded data removed]",
      "text/plain": [
       "<Figure size 432x288 with 1 Axes>"
      ]
     },
     "metadata": {
      "needs_background": "light"
     },
     "output_type": "display_data"
    }
   ],
   "source": [
    "data['primary category'] = data['product_category_tree'].apply(lambda x :x.split('>>')[0][2:len(x.split('>>')[0])-1])\n",
    "\n",
    "data['primary category'].value_counts()[:25].sort_values(ascending=False).plot(kind='barh')\n",
    "plt.yticks(fontsize=12)\n",
    "plt.xticks(fontsize=12)"
   ]
  },
  {
   "cell_type": "markdown",
   "metadata": {},
   "source": [
    "Clothing is the most sold product in Flipkart followed by Jewellery"
   ]
  },
  {
   "cell_type": "markdown",
   "metadata": {},
   "source": [
    "### Analysis the second category"
   ]
  },
  {
   "cell_type": "code",
   "execution_count": 73,
   "metadata": {},
   "outputs": [
    {
     "data": {
      "text/plain": [
       "(array([   0.,  500., 1000., 1500., 2000., 2500., 3000., 3500., 4000.,\n",
       "        4500.]),\n",
       " [Text(0, 0, ''),\n",
       "  Text(0, 0, ''),\n",
       "  Text(0, 0, ''),\n",
       "  Text(0, 0, ''),\n",
       "  Text(0, 0, ''),\n",
       "  Text(0, 0, ''),\n",
       "  Text(0, 0, ''),\n",
       "  Text(0, 0, ''),\n",
       "  Text(0, 0, ''),\n",
       "  Text(0, 0, '')])"
      ]
     },
     "execution_count": 73,
     "metadata": {},
     "output_type": "execute_result"
    },
    {
     "data": {
      "image/png": "[encoded data removed]",
      "text/plain": [
       "<Figure size 432x288 with 1 Axes>"
      ]
     },
     "metadata": {
      "needs_background": "light"
     },
     "output_type": "display_data"
    }
   ],
   "source": [
    "def secondary_category(value):\n",
    "    try:\n",
    "        return value.split('>>')[1][1:len(value.split('>>')[1])-1]\n",
    "    except IndexError:\n",
    "        return 'None'  \n",
    "\n",
    "data['secondary category'] = data['product_category_tree'].apply(secondary_category)\n",
    "\n",
    "data['secondary category'].value_counts()[:25].sort_values(ascending=False).plot(kind='barh')\n",
    "plt.yticks(fontsize=12)\n",
    "plt.xticks(fontsize=12)"
   ]
  },
  {
   "cell_type": "markdown",
   "metadata": {},
   "source": [
    "### Analysing and preprocessing unwanted features"
   ]
  },
  {
   "cell_type": "code",
   "execution_count": 5,
   "metadata": {},
   "outputs": [
    {
     "data": {
      "text/plain": [
       "'http://www.flipkart.com/alisha-solid-women-s-cycling-shorts/p/itmeh2ffvzetthbb?pid=SRTEH2FF9KEDEFGF'"
      ]
     },
     "execution_count": 5,
     "metadata": {},
     "output_type": "execute_result"
    }
   ],
   "source": [
    "data['product_url'][0]"
   ]
  },
  {
   "cell_type": "code",
   "execution_count": 7,
   "metadata": {},
   "outputs": [
    {
     "data": {
      "text/plain": [
       "'[\"http://img5a.flixcart.com/image/short/u/4/a/altht-3p-21-alisha-38-original-imaeh2d5vm5zbtgg.jpeg\", \"http://img5a.flixcart.com/image/short/p/j/z/altght4p-26-alisha-38-original-imaeh2d5kbufss6n.jpeg\", \"http://img5a.flixcart.com/image/short/p/j/z/altght4p-26-alisha-38-original-imaeh2d5npdybzyt.jpeg\", \"http://img5a.flixcart.com/image/short/z/j/7/altght-7-alisha-38-original-imaeh2d5jsz2ghd6.jpeg\"]'"
      ]
     },
     "execution_count": 7,
     "metadata": {},
     "output_type": "execute_result"
    }
   ],
   "source": [
    "list(data['image'])[0]"
   ]
  },
  {
   "cell_type": "code",
   "execution_count": 8,
   "metadata": {},
   "outputs": [
    {
     "data": {
      "text/plain": [
       "'{\"product_specification\"=>[{\"key\"=>\"Number of Contents in Sales Package\", \"value\"=>\"Pack of 3\"}, {\"key\"=>\"Fabric\", \"value\"=>\"Cotton Lycra\"}, {\"key\"=>\"Type\", \"value\"=>\"Cycling Shorts\"}, {\"key\"=>\"Pattern\", \"value\"=>\"Solid\"}, {\"key\"=>\"Ideal For\", \"value\"=>\"Women\\'s\"}, {\"value\"=>\"Gentle Machine Wash in Lukewarm Water, Do Not Bleach\"}, {\"key\"=>\"Style Code\", \"value\"=>\"ALTHT_3P_21\"}, {\"value\"=>\"3 shorts\"}]}'"
      ]
     },
     "execution_count": 8,
     "metadata": {},
     "output_type": "execute_result"
    }
   ],
   "source": [
    "list(data['product_specifications'])[0]"
   ]
  },
  {
   "cell_type": "code",
   "execution_count": 10,
   "metadata": {},
   "outputs": [],
   "source": [
    "# Dropping unwated features\n",
    "\n",
    "data = data.drop(['uniq_id', 'crawl_timestamp', 'product_url','pid', 'retail_price', 'discounted_price', 'image', 'is_FK_Advantage_product', 'product_rating', 'overall_rating'], axis = 1)"
   ]
  },
  {
   "cell_type": "code",
   "execution_count": 12,
   "metadata": {},
   "outputs": [],
   "source": [
    "# Extracting values from feature product_specification\n",
    "\n",
    "import ast\n",
    "    \n",
    "def extract_val(text):\n",
    "    if type(text)!=str:\n",
    "        return ''\n",
    "    try:\n",
    "        dictionary = ast.literal_eval(str(text).replace('=>',':'))\n",
    "    except:\n",
    "        return ''\n",
    "    \n",
    "    l = dictionary['product_specification']\n",
    "\n",
    "    s = ''\n",
    "    for i in l:\n",
    "        if type(i)==str:\n",
    "            s += ''\n",
    "            continue\n",
    "        if 'value' not in i:\n",
    "            s += ''\n",
    "            continue\n",
    "        if i['value']=='NA':\n",
    "            s += ''\n",
    "            continue\n",
    "        s += i['value']\n",
    "\n",
    "    return s\n",
    "\n",
    "data['product_specifications'] = [extract_val(text) for text in list(data['product_specifications'])]"
   ]
  },
  {
   "cell_type": "code",
   "execution_count": 13,
   "metadata": {},
   "outputs": [],
   "source": [
    "#Dropping rows with nan descriptions\n",
    "\n",
    "unwanted = []\n",
    "for i in range(len(data)):\n",
    "    if type(data['description'][i]) != str:\n",
    "        unwanted.append(i)\n",
    "        \n",
    "data = data.drop(unwanted)\n",
    "print(len(data))\n",
    "data.reset_index(drop=True, inplace=True)"
   ]
  },
  {
   "cell_type": "code",
   "execution_count": 15,
   "metadata": {},
   "outputs": [
    {
     "name": "stdout",
     "output_type": "stream",
     "text": [
      "19998\n"
     ]
    },
    {
     "data": {
      "text/plain": [
       "['Clothing',\n",
       " \"Women's Clothing\",\n",
       " 'Lingerie, Sleep & Swimwear',\n",
       " 'Shorts',\n",
       " 'Alisha Shorts',\n",
       " \"Alisha Solid Women's Cycling Shorts\"]"
      ]
     },
     "execution_count": 15,
     "metadata": {},
     "output_type": "execute_result"
    }
   ],
   "source": [
    "# Converting product_category_tree to list of categories\n",
    "\n",
    "uniq_tree_categories = []\n",
    "\n",
    "for i in range(len(data)):\n",
    "    n = len(data['product_category_tree'][i])\n",
    "    uniq_tree_categories.append(data['product_category_tree'][i][2:n-2].split(\" >> \"))\n",
    "\n",
    "data['product_category_tree'] = uniq_tree_categories\n",
    "print(len(data['product_category_tree']))\n",
    "data['product_category_tree'][0]"
   ]
  },
  {
   "cell_type": "code",
   "execution_count": 19,
   "metadata": {},
   "outputs": [
    {
     "data": {
      "text/html": [
       "<div>\n",
       "<style scoped>\n",
       "    .dataframe tbody tr th:only-of-type {\n",
       "        vertical-align: middle;\n",
       "    }\n",
       "\n",
       "    .dataframe tbody tr th {\n",
       "        vertical-align: top;\n",
       "    }\n",
       "\n",
       "    .dataframe thead th {\n",
       "        text-align: right;\n",
       "    }\n",
       "</style>\n",
       "<table border=\"1\" class=\"dataframe\">\n",
       "  <thead>\n",
       "    <tr style=\"text-align: right;\">\n",
       "      <th></th>\n",
       "      <th>product_name</th>\n",
       "      <th>product_category_tree</th>\n",
       "      <th>description</th>\n",
       "      <th>brand</th>\n",
       "      <th>product_specifications</th>\n",
       "    </tr>\n",
       "  </thead>\n",
       "  <tbody>\n",
       "    <tr>\n",
       "      <th>0</th>\n",
       "      <td>Alisha Solid Women's Cycling Shorts</td>\n",
       "      <td>[Clothing, Women's Clothing, Lingerie, Sleep &amp;...</td>\n",
       "      <td>Key Features of Alisha Solid Women's Cycling S...</td>\n",
       "      <td>Alisha</td>\n",
       "      <td>Pack of 3Cotton LycraCycling ShortsSolidWomen'...</td>\n",
       "    </tr>\n",
       "    <tr>\n",
       "      <th>1</th>\n",
       "      <td>FabHomeDecor Fabric Double Sofa Bed</td>\n",
       "      <td>[Furniture, Living Room Furniture, Sofa Beds &amp;...</td>\n",
       "      <td>FabHomeDecor Fabric Double Sofa Bed (Finish Co...</td>\n",
       "      <td>FabHomeDecor</td>\n",
       "      <td>Installation and demo for this product is done...</td>\n",
       "    </tr>\n",
       "    <tr>\n",
       "      <th>2</th>\n",
       "      <td>AW Bellies</td>\n",
       "      <td>[Footwear, Women's Footwear, Ballerinas, AW Be...</td>\n",
       "      <td>Key Features of AW Bellies Sandals Wedges Heel...</td>\n",
       "      <td>AW</td>\n",
       "      <td>WomenCasualRedPatent Leather1 inchPack of 1One...</td>\n",
       "    </tr>\n",
       "  </tbody>\n",
       "</table>\n",
       "</div>"
      ],
      "text/plain": [
       "                          product_name  \\\n",
       "0  Alisha Solid Women's Cycling Shorts   \n",
       "1  FabHomeDecor Fabric Double Sofa Bed   \n",
       "2                           AW Bellies   \n",
       "\n",
       "                               product_category_tree  \\\n",
       "0  [Clothing, Women's Clothing, Lingerie, Sleep &...   \n",
       "1  [Furniture, Living Room Furniture, Sofa Beds &...   \n",
       "2  [Footwear, Women's Footwear, Ballerinas, AW Be...   \n",
       "\n",
       "                                         description         brand  \\\n",
       "0  Key Features of Alisha Solid Women's Cycling S...        Alisha   \n",
       "1  FabHomeDecor Fabric Double Sofa Bed (Finish Co...  FabHomeDecor   \n",
       "2  Key Features of AW Bellies Sandals Wedges Heel...            AW   \n",
       "\n",
       "                              product_specifications  \n",
       "0  Pack of 3Cotton LycraCycling ShortsSolidWomen'...  \n",
       "1  Installation and demo for this product is done...  \n",
       "2  WomenCasualRedPatent Leather1 inchPack of 1One...  "
      ]
     },
     "execution_count": 19,
     "metadata": {},
     "output_type": "execute_result"
    }
   ],
   "source": [
    "data.head(3)"
   ]
  },
  {
   "cell_type": "code",
   "execution_count": 20,
   "metadata": {},
   "outputs": [
    {
     "name": "stdout",
     "output_type": "stream",
     "text": [
      "Train shape: (17998, 5)\n",
      "Test shape: (2000, 5)\n"
     ]
    }
   ],
   "source": [
    "# Splitting train test dataset.\n",
    "\n",
    "from sklearn.model_selection import train_test_split\n",
    "\n",
    "train, test = train_test_split(data, test_size=0.1, random_state=42)\n",
    "\n",
    "print(\"Train shape:\",train.shape)\n",
    "print(\"Test shape:\",test.shape)"
   ]
  },
  {
   "cell_type": "code",
   "execution_count": 28,
   "metadata": {},
   "outputs": [],
   "source": [
    "train.reset_index(drop=True, inplace=True)\n",
    "test.reset_index(drop=True, inplace=True)"
   ]
  },
  {
   "cell_type": "code",
   "execution_count": 21,
   "metadata": {},
   "outputs": [
    {
     "name": "stdout",
     "output_type": "stream",
     "text": [
      "Unique categories:  8406\n"
     ]
    }
   ],
   "source": [
    "# Unique categories in the data\n",
    "\n",
    "all_category = []\n",
    "\n",
    "for i in list(train['product_category_tree']):\n",
    "    all_category+=i\n",
    "\n",
    "print(\"Unique categories: \",len(set(all_category)))"
   ]
  },
  {
   "cell_type": "code",
   "execution_count": 60,
   "metadata": {},
   "outputs": [
    {
     "name": "stdout",
     "output_type": "stream",
     "text": [
      "[('Clothing', 5598), (\"Women's Clothing\", 3510), ('Jewellery', 3159), ('Western Wear', 1784), (\"Men's Clothing\", 1610), ('Necklaces & Chains', 1435), ('Necklaces', 1420), ('Shirts, Tops & Tunics', 1125), ('Footwear', 1111), ('Lingerie, Sleep & Swimwear', 1085), ('Mobiles & Accessories', 982), ('Bras', 925), ('Automotive', 914), ('Home Decor & Festive Needs', 854), ('Accessories & Spare parts', 833), ('Shirts', 832), ('T-Shirts', 826), ('Tablet Accessories', 713), ('Cases & Covers', 711), (\"Women's Footwear\", 704), ('Rings', 672), ('Bangles, Bracelets & Armlets', 644), ('Beauty and Personal Care', 641), ('Home Furnishing', 627), ('Car Interior & Exterior', 602), ('Car Interior', 597), ('Kitchen & Dining', 568), ('Dresses & Skirts', 559), ('Ethnic Wear', 517), ('Computers', 513), ('Car Mats', 487), ('Dresses', 484), ('Watches', 478), (\"Kids' Clothing\", 475), ('Tops', 475), ('Wrist Watches', 472), ('Baby Care', 432), ('Casual Shoes', 429), ('Bangles', 408), ('Showpieces', 383), ('Leggings & Jeggings', 381), ('Tools', 369), ('Tools & Hardware', 359), ('Fragrances', 356), ('Deodorants', 353), ('Combos', 342), ('Gardening Tools', 313), (\"Men's Footwear\", 308), ('Laptop Accessories', 306), ('Plant Containers & Sets', 304), ('Plant Container Sets', 304), ('Toys & School Supplies', 297), ('Pens & Stationery', 288), ('School Supplies', 274), ('Mobile Accessories', 273), ('Girls Wear', 261), ('Wall Decor & Clocks', 259), ('Coffee Mugs', 258), ('Winter & Seasonal Wear', 241), ('Bracelets', 234), ('Bags, Wallets & Belts', 232), ('Geometry & Pencil Boxes', 203), ('TheLostPuppy Cases & Covers', 201), ('Bed Linen', 199), ('Kurtas & Kurtis', 192), ('Wedges', 186), ('Baby & Kids Gifts', 180), ('Network Components', 178), ('S4S Bras', 176), ('Blankets, Quilts & Dohars', 175), ('Routers', 175), ('Bags', 171), ('Stickers', 171), ('Infant Wear', 170), ('Furniture', 159), ('Ethnic', 157), ('Boys Wear', 153), ('Jewellery Sets', 150), ('Curtains & Accessories', 148), ('Curtains', 147), ('Kurtis', 147), ('Sports & Fitness', 146), ('USB Gadgets', 139), ('Table Decor & Handicrafts', 134), ('Accessories', 134), ('DailyObjects Cases & Covers', 131), ('Numero Uno T-Shirts', 125), ('Office Supplies', 125), ('Heels', 125), ('Jeans', 123), ('Accessories & Combo Sets', 122), ('Polos & T-Shirts', 122), ('Formal Shirts', 118), ('Wall Decals & Stickers', 113), ('Fabric', 111), ('Boots', 110), ('Spares & Performance Parts', 100)]\n"
     ]
    }
   ],
   "source": [
    "# counting frequency of each category and storing only those which have frequency>=100\n",
    "\n",
    "from collections import Counter\n",
    "\n",
    "f = Counter(all_category)\n",
    "f = f.most_common(97)\n",
    "print(f)"
   ]
  },
  {
   "cell_type": "code",
   "execution_count": 26,
   "metadata": {},
   "outputs": [
    {
     "name": "stdout",
     "output_type": "stream",
     "text": [
      "['Fabric', 'Boots', 'Spares & Performance Parts']\n"
     ]
    }
   ],
   "source": [
    "most_common = [i[0] for i in f]\n",
    "print(most_common[94:])"
   ]
  },
  {
   "cell_type": "code",
   "execution_count": 29,
   "metadata": {},
   "outputs": [],
   "source": [
    "# Extracting the label from product category tree on the basis of most_common categories in the dataset.\n",
    "\n",
    "label = ['_']*len(train)\n",
    "\n",
    "for i in range(len(train)):\n",
    "    #print(i,end=\" \")\n",
    "    for j in most_common[::-1]:\n",
    "        if j in train['product_category_tree'][i]:\n",
    "            label[i]=j\n",
    "            break\n",
    "            \n",
    "train['Label'] = label"
   ]
  },
  {
   "cell_type": "code",
   "execution_count": 32,
   "metadata": {},
   "outputs": [],
   "source": [
    "train = train[train['Label']!='_']"
   ]
  },
  {
   "cell_type": "code",
   "execution_count": 33,
   "metadata": {},
   "outputs": [],
   "source": [
    "train.reset_index(drop=True,inplace=True)"
   ]
  },
  {
   "cell_type": "code",
   "execution_count": 35,
   "metadata": {},
   "outputs": [
    {
     "data": {
      "text/plain": [
       "17368"
      ]
     },
     "execution_count": 35,
     "metadata": {},
     "output_type": "execute_result"
    }
   ],
   "source": [
    "len(train)"
   ]
  },
  {
   "cell_type": "code",
   "execution_count": 36,
   "metadata": {},
   "outputs": [
    {
     "name": "stdout",
     "output_type": "stream",
     "text": [
      "17368\n"
     ]
    },
    {
     "name": "stderr",
     "output_type": "stream",
     "text": [
      "<ipython-input-36-65a0b37ac486>:8: SettingWithCopyWarning: \n",
      "A value is trying to be set on a copy of a slice from a DataFrame.\n",
      "Try using .loc[row_indexer,col_indexer] = value instead\n",
      "\n",
      "See the caveats in the documentation: https://pandas.pydata.org/pandas-docs/stable/user_guide/indexing.html#returning-a-view-versus-a-copy\n",
      "  train['Label_1st_category'] = label\n"
     ]
    }
   ],
   "source": [
    "# first category \n",
    "\n",
    "label = []\n",
    "\n",
    "for i in range(len(train)):\n",
    "    label.append(train['product_category_tree'][i][0])\n",
    "\n",
    "train['Label_1st_category'] = label\n",
    "print(len(label))"
   ]
  },
  {
   "cell_type": "markdown",
   "metadata": {},
   "source": [
    "# Text Preprocessing"
   ]
  },
  {
   "cell_type": "code",
   "execution_count": 38,
   "metadata": {},
   "outputs": [],
   "source": [
    "from nltk.corpus import stopwords\n",
    "\n",
    "def remove_stopwords(s):\n",
    "    token = s.split(\" \")\n",
    "    stop_words = set(stopwords.words('english'))\n",
    "    \n",
    "    filtered_s = [w for w in token if not w in stop_words]\n",
    "    return ' '.join(filtered_s)"
   ]
  },
  {
   "cell_type": "code",
   "execution_count": 39,
   "metadata": {},
   "outputs": [],
   "source": [
    "# remove html tags\n",
    "\n",
    "import re\n",
    "def strip_html_tags(text):\n",
    "    \n",
    "    clean = re.compile('<.*?>')\n",
    "    return re.sub(clean,'',text)"
   ]
  },
  {
   "cell_type": "code",
   "execution_count": 40,
   "metadata": {},
   "outputs": [],
   "source": [
    "# Remove punctuation\n",
    "\n",
    "import string\n",
    "def remove_punctuation(s):\n",
    "    np_punct = \"\".join([c for c in s if c not in string.punctuation])\n",
    "    return s"
   ]
  },
  {
   "cell_type": "code",
   "execution_count": 41,
   "metadata": {},
   "outputs": [],
   "source": [
    "# Remove whitespace\n",
    "\n",
    "def remove_whitespace(text):\n",
    "    \"\"\"remove extra whitespaces from text\"\"\"\n",
    "    text = text.strip()\n",
    "    return \" \".join(text.split())"
   ]
  },
  {
   "cell_type": "code",
   "execution_count": 42,
   "metadata": {},
   "outputs": [],
   "source": [
    "# Word lemmatizing\n",
    "\n",
    "from nltk.stem import WordNetLemmatizer\n",
    "\n",
    "\n",
    "def word_lemmatizer(s):\n",
    "    lemmatizer = WordNetLemmatizer()\n",
    "    token = s.split(\" \")\n",
    "    lemm_text=\" \".join([lemmatizer.lemmatize(i) for i in token])\n",
    "    return lemm_text"
   ]
  },
  {
   "cell_type": "code",
   "execution_count": 43,
   "metadata": {},
   "outputs": [],
   "source": [
    "def remove_special_characters(text):\n",
    "    remove_digits = True\n",
    "    pattern = r'[^a-zA-z0-9\\s]' if not remove_digits else r'[^a-zA-z\\s]'\n",
    "    text = re.sub(pattern,'',text)\n",
    "    return text"
   ]
  },
  {
   "cell_type": "code",
   "execution_count": 44,
   "metadata": {},
   "outputs": [],
   "source": [
    "def remove_short_words(s):\n",
    "    s = s.split(\" \")\n",
    "    t = []\n",
    "    for i in range(len(s)):\n",
    "        if len(s[i]) >= 3:\n",
    "            t.append(s[i])\n",
    "    return \" \".join(t)"
   ]
  },
  {
   "cell_type": "code",
   "execution_count": 45,
   "metadata": {},
   "outputs": [],
   "source": [
    "def text_preprocessing(text):\n",
    "    text = text.lower()\n",
    "    text = strip_html_tags(text)\n",
    "    text = remove_special_characters(text)\n",
    "    text = remove_stopwords(text)\n",
    "    text = word_lemmatizer(text)\n",
    "    text = remove_punctuation(text)\n",
    "    text = remove_whitespace(text)\n",
    "    text = remove_short_words(text)\n",
    "    \n",
    "    return text"
   ]
  },
  {
   "cell_type": "code",
   "execution_count": 47,
   "metadata": {},
   "outputs": [
    {
     "data": {
      "text/plain": [
       "Index(['product_name', 'product_category_tree', 'description', 'brand',\n",
       "       'product_specifications', 'Label', 'Label_1st_category'],\n",
       "      dtype='object')"
      ]
     },
     "execution_count": 47,
     "metadata": {},
     "output_type": "execute_result"
    }
   ],
   "source": [
    "train.columns"
   ]
  },
  {
   "cell_type": "code",
   "execution_count": 48,
   "metadata": {},
   "outputs": [
    {
     "data": {
      "text/plain": [
       "product_name                 0\n",
       "product_category_tree        0\n",
       "description                  0\n",
       "brand                     5252\n",
       "product_specifications       0\n",
       "Label                        0\n",
       "Label_1st_category           0\n",
       "dtype: int64"
      ]
     },
     "execution_count": 48,
     "metadata": {},
     "output_type": "execute_result"
    }
   ],
   "source": [
    "train.isnull().sum()"
   ]
  },
  {
   "cell_type": "code",
   "execution_count": 49,
   "metadata": {},
   "outputs": [
    {
     "data": {
      "text/plain": [
       "product_name                0\n",
       "product_category_tree       0\n",
       "description                 0\n",
       "brand                     595\n",
       "product_specifications      0\n",
       "dtype: int64"
      ]
     },
     "execution_count": 49,
     "metadata": {},
     "output_type": "execute_result"
    }
   ],
   "source": [
    "test.isnull().sum()"
   ]
  },
  {
   "cell_type": "code",
   "execution_count": 50,
   "metadata": {},
   "outputs": [
    {
     "name": "stderr",
     "output_type": "stream",
     "text": [
      "<ipython-input-50-b0eb0cf848f4>:1: SettingWithCopyWarning: \n",
      "A value is trying to be set on a copy of a slice from a DataFrame.\n",
      "Try using .loc[row_indexer,col_indexer] = value instead\n",
      "\n",
      "See the caveats in the documentation: https://pandas.pydata.org/pandas-docs/stable/user_guide/indexing.html#returning-a-view-versus-a-copy\n",
      "  train['brand'] = ['' if type(i)!=str else i for i in train['brand']]\n",
      "<ipython-input-50-b0eb0cf848f4>:2: SettingWithCopyWarning: \n",
      "A value is trying to be set on a copy of a slice from a DataFrame.\n",
      "Try using .loc[row_indexer,col_indexer] = value instead\n",
      "\n",
      "See the caveats in the documentation: https://pandas.pydata.org/pandas-docs/stable/user_guide/indexing.html#returning-a-view-versus-a-copy\n",
      "  test['brand'] = ['' if type(i)!=str else i for i in test['brand']]\n"
     ]
    }
   ],
   "source": [
    "train['brand'] = ['' if type(i)!=str else i for i in train['brand']]\n",
    "test['brand'] = ['' if type(i)!=str else i for i in test['brand']]"
   ]
  },
  {
   "cell_type": "code",
   "execution_count": 51,
   "metadata": {},
   "outputs": [
    {
     "name": "stderr",
     "output_type": "stream",
     "text": [
      "<ipython-input-51-2dddfdb080d5>:1: SettingWithCopyWarning: \n",
      "A value is trying to be set on a copy of a slice from a DataFrame.\n",
      "Try using .loc[row_indexer,col_indexer] = value instead\n",
      "\n",
      "See the caveats in the documentation: https://pandas.pydata.org/pandas-docs/stable/user_guide/indexing.html#returning-a-view-versus-a-copy\n",
      "  train['des_preprocess']=[text_preprocessing(i) for i in list(train['description'])]\n",
      "<ipython-input-51-2dddfdb080d5>:2: SettingWithCopyWarning: \n",
      "A value is trying to be set on a copy of a slice from a DataFrame.\n",
      "Try using .loc[row_indexer,col_indexer] = value instead\n",
      "\n",
      "See the caveats in the documentation: https://pandas.pydata.org/pandas-docs/stable/user_guide/indexing.html#returning-a-view-versus-a-copy\n",
      "  train['all_features_preprocess']=[text_preprocessing(train['description'][i]+' '+train['product_name'][i]+' '+train['brand'][i]+' '+train['product_specifications'][i]) for i in range(len(train))]\n",
      "<ipython-input-51-2dddfdb080d5>:4: SettingWithCopyWarning: \n",
      "A value is trying to be set on a copy of a slice from a DataFrame.\n",
      "Try using .loc[row_indexer,col_indexer] = value instead\n",
      "\n",
      "See the caveats in the documentation: https://pandas.pydata.org/pandas-docs/stable/user_guide/indexing.html#returning-a-view-versus-a-copy\n",
      "  test['des_preprocess']=[text_preprocessing(i) for i in list(test['description'])]\n",
      "<ipython-input-51-2dddfdb080d5>:5: SettingWithCopyWarning: \n",
      "A value is trying to be set on a copy of a slice from a DataFrame.\n",
      "Try using .loc[row_indexer,col_indexer] = value instead\n",
      "\n",
      "See the caveats in the documentation: https://pandas.pydata.org/pandas-docs/stable/user_guide/indexing.html#returning-a-view-versus-a-copy\n",
      "  test['all_features_preprocess']=[text_preprocessing(test['description'][i]+' '+test['product_name'][i]+' '+test['brand'][i]+' '+test['product_specifications'][i]) for i in range(len(test))]\n"
     ]
    }
   ],
   "source": [
    "train['des_preprocess']=[text_preprocessing(i) for i in list(train['description'])]\n",
    "train['all_features_preprocess']=[text_preprocessing(train['description'][i]+' '+train['product_name'][i]+' '+train['brand'][i]+' '+train['product_specifications'][i]) for i in range(len(train))]\n",
    "\n",
    "test['des_preprocess']=[text_preprocessing(i) for i in list(test['description'])]\n",
    "test['all_features_preprocess']=[text_preprocessing(test['description'][i]+' '+test['product_name'][i]+' '+test['brand'][i]+' '+test['product_specifications'][i]) for i in range(len(test))]"
   ]
  },
  {
   "cell_type": "code",
   "execution_count": 54,
   "metadata": {},
   "outputs": [
    {
     "name": "stdout",
     "output_type": "stream",
     "text": [
      "WhiteGems Mia Band Gold Diamond 18 K Ring - Buy WhiteGems Mia Band Gold Diamond 18 K Ring only for Rs. 42996 from Flipkart.com. Only Genuine Products. 30 Day Replacement Guarantee. Free Shipping. Cash On Delivery!\n",
      "\n",
      "\n",
      "whitegems mia band gold diamond ring buy whitegems mia band gold diamond ring flipkartcom genuine product day replacement guarantee free shipping cash delivery\n"
     ]
    }
   ],
   "source": [
    "print(train['description'][0])\n",
    "print(\"\\n\")\n",
    "print(train['des_preprocess'][0])"
   ]
  },
  {
   "cell_type": "code",
   "execution_count": 55,
   "metadata": {},
   "outputs": [
    {
     "name": "stdout",
     "output_type": "stream",
     "text": [
      "WhiteGems Mia Band Gold Diamond 18 K Ring - Buy WhiteGems Mia Band Gold Diamond 18 K Ring only for Rs. 42996 from Flipkart.com. Only Genuine Products. 30 Day Replacement Guarantee. Free Shipping. Cash On Delivery! WhiteGems Mia Band Gold Diamond 18 K Ring WhiteGems WhiteGemsContemporaryDIALR750023Precious JewelleryRingMia BandGirls, WomenEveryday, Love, Wedding and Engagement, WorkwearYellow0.72 caratRoundGHNatural DiamondSI118 K5.4Yellow5.545 g22 mm21 mmGoldDiamond12 DiamondsGlossy24Channel1 Ring, Graceful Ring Box1BIS Hallmark, Brand Certification\n",
      "\n",
      "\n",
      "whitegems mia band gold diamond ring buy whitegems mia band gold diamond ring flipkartcom genuine product day replacement guarantee free shipping cash delivery whitegems mia band gold diamond ring whitegems whitegemscontemporarydialrprecious jewelleryringmia bandgirls womeneveryday love wedding engagement workwearyellow caratroundghnatural diamondsi kyellow mmgolddiamond diamondsglossychannel ring graceful ring boxbis hallmark brand certification\n"
     ]
    }
   ],
   "source": [
    "print(train['description'][0]+' '+train['product_name'][0]+' '+train['brand'][0]+' '+train['product_specifications'][0])\n",
    "print(\"\\n\")\n",
    "print(train['all_features_preprocess'][0])"
   ]
  },
  {
   "cell_type": "code",
   "execution_count": 56,
   "metadata": {},
   "outputs": [],
   "source": [
    "train.to_csv('train.csv')\n",
    "test.to_csv('test.csv')"
   ]
  }
 ],
 "metadata": {
  "kernelspec": {
   "display_name": "Python 3",
   "language": "python",
   "name": "python3"
  },
  "language_info": {
   "codemirror_mode": {
    "name": "ipython",
    "version": 3
   },
   "file_extension": ".py",
   "mimetype": "text/x-python",
   "name": "python",
   "nbconvert_exporter": "python",
   "pygments_lexer": "ipython3",
   "version": "3.8.5"
  }
 },
 "nbformat": 4,
 "nbformat_minor": 4
}
